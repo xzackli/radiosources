{
 "cells": [
  {
   "cell_type": "code",
   "execution_count": 1,
   "metadata": {},
   "outputs": [
    {
     "data": {
      "text/plain": [
       "PyObject <module 'numpy' from '/tigress/zequnl/conda_envs/ps/lib/python3.8/site-packages/numpy/__init__.py'>"
      ]
     },
     "execution_count": 1,
     "metadata": {},
     "output_type": "execute_result"
    }
   ],
   "source": [
    "using PyCall\n",
    "np = pyimport(\"numpy\")"
   ]
  },
  {
   "cell_type": "code",
   "execution_count": 2,
   "metadata": {},
   "outputs": [
    {
     "data": {
      "text/plain": [
       "143"
      ]
     },
     "execution_count": 2,
     "metadata": {},
     "output_type": "execute_result"
    }
   ],
   "source": [
    "freq = 143.0\n",
    "int_freq = Int(freq)"
   ]
  },
  {
   "cell_type": "code",
   "execution_count": 3,
   "metadata": {},
   "outputs": [],
   "source": [
    "using HDF5\n",
    "\n",
    "flux_143 = h5read(\"/tigress/zequnl/radio/lagache_sed_massage/catalog_$(143.0).h5\", \"flux\");\n",
    "\n",
    "flux = h5read(\"/tigress/zequnl/radio/lagache_sed_massage/catalog_$(freq).h5\", \"flux\")\n",
    "θ = h5read(\"/tigress/zequnl/radio/lagache_sed_massage/catalog_$(freq).h5\", \"theta\")\n",
    "ϕ = h5read(\"/tigress/zequnl/radio/lagache_sed_massage/catalog_$(freq).h5\", \"phi\");"
   ]
  },
  {
   "cell_type": "code",
   "execution_count": 4,
   "metadata": {},
   "outputs": [
    {
     "data": {
      "text/plain": [
       "tSZ_mul (generic function with 1 method)"
      ]
     },
     "execution_count": 4,
     "metadata": {},
     "output_type": "execute_result"
    }
   ],
   "source": [
    "using XGPaint\n",
    "using Healpix\n",
    "hp = pyimport(\"healpy\")\n",
    "\n",
    "using PyPlot\n",
    "using Unitful, UnitfulAstro\n",
    "import PhysicalConstants.CODATA2018: BoltzmannConstant, PlanckConstant, SpeedOfLightInVacuum\n",
    "\n",
    "# CHANGE FOR DIFFERENT FREQUENCY ==========================\n",
    "# print(KCMB_to_Jy_factor(freq * 1u\"GHz\"))\n",
    "\n",
    "const TCMB = 2.725u\"K\"\n",
    "xf(ν) = float(PlanckConstant) * ν / float(BoltzmannConstant) / TCMB\n",
    "MJy_mul(ν) = 1.05e3 * expm1(xf(ν))^2 * exp(-xf(ν)) * (ν/100u\"GHz\")^(-4)\n",
    "tSZ_mul(ν) = 1e6u\"1/K\" * TCMB * (xf(ν) * (exp(xf(ν))+1) / expm1(xf(ν)) - 4)"
   ]
  },
  {
   "cell_type": "code",
   "execution_count": null,
   "metadata": {},
   "outputs": [],
   "source": [
    "MJy_mul(freq * 1u\"GHz\"), tSZ_mul(freq * 1u\"GHz\")"
   ]
  },
  {
   "cell_type": "markdown",
   "metadata": {},
   "source": [
    "# Generate Radio Map"
   ]
  },
  {
   "cell_type": "code",
   "execution_count": null,
   "metadata": {},
   "outputs": [],
   "source": []
  },
  {
   "cell_type": "code",
   "execution_count": null,
   "metadata": {},
   "outputs": [],
   "source": [
    "nside = 4096\n",
    "m_radio = Map{Float64,RingOrder}(nside)\n",
    "# flux_cut = 7e-3\n",
    "# cut_array = flux_143 .< flux_cut  # in Jy\n",
    "# XGPaint.catalog2map!(m_radio, flux[cut_array], θ[cut_array], ϕ[cut_array])\n",
    "XGPaint.catalog2map!(m_radio, flux, θ, ϕ)\n",
    "\n",
    "MJy_factor = MJy_mul(freq * 1u\"GHz\")\n",
    "m_radio .*= MJy_factor / 1e6;  # CONVERT TO muK, note that our maps are in Jy/sr"
   ]
  },
  {
   "cell_type": "code",
   "execution_count": null,
   "metadata": {},
   "outputs": [],
   "source": [
    "using FITSIO\n",
    "\n",
    "m_cib = readMapFromFITS(\"/tigress/zequnl/websky/cib_nu0$(int_freq).fits\", 1, Float64);\n",
    "m_cib.pixels .*= MJy_factor\n",
    "\n",
    "tSZ_factor = tSZ_mul(freq * 1u\"GHz\")\n",
    "m_tsz = readMapFromFITS(\"/tigress/zequnl/websky/tsz.fits\", 1, Float64);\n",
    "m_tsz .*= tSZ_factor;"
   ]
  },
  {
   "cell_type": "code",
   "execution_count": null,
   "metadata": {},
   "outputs": [],
   "source": [
    "ENV[\"SCRATCH\"] = \"/tigress/zequnl/xgpaint/\"\n",
    "@time halo_pos, halo_mass = read_halo_catalog_hdf5(\n",
    "    joinpath(ENV[\"SCRATCH\"],\"websky_halos-light.hdf5\"));"
   ]
  },
  {
   "cell_type": "code",
   "execution_count": null,
   "metadata": {},
   "outputs": [],
   "source": [
    "fwhm_143 = 2.2\n",
    "beamed_radio = hp.sphtfunc.smoothing(m_radio.pixels, fwhm=fwhm_100);\n",
    "beamed_cib = hp.sphtfunc.smoothing(m_cib.pixels, fwhm=fwhm_100);\n",
    "beamed_tsz = hp.sphtfunc.smoothing(m_tsz.pixels, fwhm=fwhm_100);"
   ]
  },
  {
   "cell_type": "code",
   "execution_count": null,
   "metadata": {},
   "outputs": [],
   "source": []
  },
  {
   "cell_type": "code",
   "execution_count": null,
   "metadata": {},
   "outputs": [],
   "source": [
    "mass_cut_array = halo_mass .> 10^14.5\n",
    "positions = halo_pos[:, mass_cut_array];"
   ]
  },
  {
   "cell_type": "code",
   "execution_count": null,
   "metadata": {},
   "outputs": [],
   "source": [
    "norm(x) = sqrt(x[1]^2 + x[2]^2 + x[3]^2)\n",
    "unitize(x) = x ./ norm(x)"
   ]
  },
  {
   "cell_type": "code",
   "execution_count": null,
   "metadata": {},
   "outputs": [],
   "source": [
    "max_disc_in_arcmin = 6\n",
    "max_disc = deg2rad(max_disc_in_arcmin / 60)"
   ]
  },
  {
   "cell_type": "code",
   "execution_count": null,
   "metadata": {},
   "outputs": [],
   "source": [
    "using ProgressMeter\n",
    "\n",
    "function get_discs(beamed_map::Array{T}, res, pos) where T\n",
    "#     res = beamed_map.resolution\n",
    "    radii = T[]\n",
    "    disc_fluxes = T[]\n",
    "    \n",
    "    num_halos = size(pos, 2)\n",
    "    @showprogress for i in 1:num_halos\n",
    "        pixel_inds = hp.query_disc(nside, unitize(positions[:,i]), max_disc) .+ 1\n",
    "        append!(disc_fluxes, beamed_map[pixel_inds])\n",
    "        vec1 = unitize(positions[:,i]) #pix2vecRing(res, vec2pixRing(res, positions[:,i]...))\n",
    "        vec2 = hp.pixelfunc.pix2vec(res.nside, pixel_inds .- 1) #[pix2angRing(res, pixind) for pixind in pixel_inds]\n",
    "#         angdists = [hp.rotator.angdist(vec1, [vec2[1][i_discpix], vec2[2][i_discpix]])[1] for i_discpix in 1:length(pixel_inds) ]\n",
    "        angdists = hp.rotator.angdist(vec1, vec2)\n",
    "        append!(radii, angdists)\n",
    "    end\n",
    "    \n",
    "    return radii, disc_fluxes\n",
    "end"
   ]
  },
  {
   "cell_type": "code",
   "execution_count": null,
   "metadata": {},
   "outputs": [],
   "source": [
    "using Interpolations\n",
    "spline(x, y) = scale(interpolate(y, BSpline(Cubic(Line(OnGrid())))), x)\n",
    "# spline_∂ₓ(f, x_grid) = spline(x_grid, [Interpolations.gradient(f, x)[1] for x in x_grid])\n"
   ]
  },
  {
   "cell_type": "code",
   "execution_count": null,
   "metadata": {},
   "outputs": [],
   "source": [
    "# function get_profile(m, res)\n",
    "#     r, f = get_discs(m, res, positions)\n",
    "#     Δr = max_disc/30\n",
    "#     radial_coord = Δr/100:Δr:max_disc\n",
    "#     cumulative_fluxes = [sum(f[r .< r₀]) for r₀ in radial_coord];\n",
    "#     profile = spline_∂ₓ(spline(radial_coord, cumulative_fluxes), radial_coord)\n",
    "#     return profile\n",
    "# end"
   ]
  },
  {
   "cell_type": "code",
   "execution_count": null,
   "metadata": {},
   "outputs": [],
   "source": [
    "function get_profile(m, res)\n",
    "    r, f = get_discs(m, res, positions)\n",
    "    Δr = max_disc/30\n",
    "    radial_coord = 0.0:Δr:max_disc\n",
    "    cumulative_fluxes = [\n",
    "        sum( f[((r₀-Δr) .< r) .& (r .< (r₀+Δr))] ) / (π * ((r₀+Δr)^2 - max(0.0, r₀-Δr)^2))\n",
    "        for r₀ in radial_coord];\n",
    "    cumulative_fluxes[1] = sum( f[r .< Δr] ) / (π * Δr^2) \n",
    "    \n",
    "    profile = spline(radial_coord, cumulative_fluxes) #spline_∂ₓ(\n",
    "        \n",
    "#         , radial_coord)\n",
    "    return profile\n",
    "end"
   ]
  },
  {
   "cell_type": "code",
   "execution_count": null,
   "metadata": {},
   "outputs": [],
   "source": [
    "mask = hp.read_map(\"/tigress/zequnl/websky/radiomask_143_7mJy.fits\");"
   ]
  },
  {
   "cell_type": "code",
   "execution_count": null,
   "metadata": {},
   "outputs": [],
   "source": [
    "profile_radio = get_profile(beamed_radio, m_radio.resolution)\n",
    "profile_tsz = get_profile(beamed_tsz, m_radio.resolution)\n",
    "profile_cib = get_profile(beamed_cib, m_radio.resolution);\n",
    "\n",
    "# profile_radio = get_profile(m_radio.pixels .* mask, m_radio.resolution)\n",
    "# profile_tsz = get_profile(m_tsz.pixels .* mask, m_radio.resolution)\n",
    "# profile_cib = get_profile(m_cib.pixels .* mask, m_radio.resolution);"
   ]
  },
  {
   "cell_type": "code",
   "execution_count": null,
   "metadata": {},
   "outputs": [],
   "source": [
    "# r, fr = get_discs(m_radio.pixels, m_radio.resolution, positions)\n",
    "# r, fsz = get_discs(beamed_tsz, m_radio.resolution, positions)"
   ]
  },
  {
   "cell_type": "code",
   "execution_count": null,
   "metadata": {},
   "outputs": [],
   "source": [
    "hp.cartview((m_radio.pixels), lonra=[-1,2], latra=[-1,1], max=3e2, title=\"radio\")"
   ]
  },
  {
   "cell_type": "code",
   "execution_count": null,
   "metadata": {},
   "outputs": [],
   "source": [
    "hp.cartview(mask, lonra=[-1,2], latra=[-1,1], title=\"mask\")"
   ]
  },
  {
   "cell_type": "code",
   "execution_count": null,
   "metadata": {},
   "outputs": [],
   "source": [
    "sum(m_radio.pixels .* mask), sum(m_radio.pixels)"
   ]
  },
  {
   "cell_type": "code",
   "execution_count": null,
   "metadata": {},
   "outputs": [],
   "source": []
  },
  {
   "cell_type": "code",
   "execution_count": null,
   "metadata": {},
   "outputs": [],
   "source": [
    "profile_radio = get_profile(m_radio.pixels .* mask, m_radio.resolution)\n",
    "profile_tsz = get_profile(m_tsz.pixels .* mask, m_radio.resolution)\n",
    "profile_cib = get_profile(m_cib.pixels .* mask, m_radio.resolution);"
   ]
  },
  {
   "cell_type": "code",
   "execution_count": null,
   "metadata": {},
   "outputs": [],
   "source": [
    "Δr = max_disc/30\n",
    "plotting_r = Δr/10:max_disc/1000:(max_disc-Δr)\n",
    "r_arcmin = rad2deg.(plotting_r) .* 60\n",
    "\n",
    "plot(r_arcmin, profile_radio.(plotting_r), \"-\", label=\"radio\")\n",
    "plot(r_arcmin, abs.(profile_tsz.(plotting_r)) ./ 10  , \"-\", label=\"|tSZ| / 10\")\n",
    "plot(r_arcmin, profile_cib.(plotting_r) ./ 10, \"-\", label=\"CIB / 10\")\n",
    "# plot(radial_coord, predict(approx, radial_coord), \"-\")\n",
    "legend()\n",
    "# yscale(\"log\")\n",
    "# title(\"unbeamed $(freq) GHz (masked)\")\n",
    "ylim(0.0, 1e13)\n",
    "savefig(\"figures/beamed_143_masked.pdf\")"
   ]
  },
  {
   "cell_type": "code",
   "execution_count": null,
   "metadata": {},
   "outputs": [],
   "source": [
    "profile_radio = get_profile(m_radio.pixels, m_radio.resolution)\n",
    "profile_tsz = get_profile(m_tsz.pixels, m_radio.resolution)\n",
    "profile_cib = get_profile(m_cib.pixels, m_radio.resolution);\n",
    "\n",
    "Δr = max_disc/30\n",
    "plotting_r = Δr/10:max_disc/1000:(max_disc-Δr)\n",
    "r_arcmin = rad2deg.(plotting_r) .* 60;"
   ]
  },
  {
   "cell_type": "code",
   "execution_count": null,
   "metadata": {},
   "outputs": [],
   "source": [
    "plot(r_arcmin, profile_radio.(plotting_r), \"-\", label=\"radio\")\n",
    "plot(r_arcmin, abs.(profile_tsz.(plotting_r)) ./ 10  , \"-\", label=\"|tSZ| / 10\")\n",
    "plot(r_arcmin, profile_cib.(plotting_r) ./ 10, \"-\", label=\"CIB / 10\")\n",
    "# plot(radial_coord, predict(approx, radial_coord), \"-\")\n",
    "legend()\n",
    "# yscale(\"log\")\n",
    "# title(\"unbeamed $(freq) GHz (unmasked, no flux cut)\")\n",
    "ylim(0.0, 1e13)\n",
    "tight_layout()\n",
    "savefig(\"figures/beamed_143_unmasked_no_cut.pdf\")"
   ]
  },
  {
   "cell_type": "code",
   "execution_count": null,
   "metadata": {},
   "outputs": [],
   "source": [
    "# r_arcmin = rad2deg.(plotting_r) .* 60\n",
    "# plot(r_arcmin, profile_radio.(plotting_r) ./ ( π .* ((plotting_r .+ Δr/50).^2 - (plotting_r .- Δr/50).^2)), \"-\", label=\"radio\")\n",
    "# plot(r_arcmin, abs.(profile_tsz.(plotting_r)) ./ ( π .* ((plotting_r .+ Δr/50).^2 - (plotting_r .- Δr/50).^2)), \"-\", label=\"|tSZ|\")\n",
    "# plot(r_arcmin, profile_cib.(plotting_r) ./ ( π .* ((plotting_r .+ Δr/50).^2 - (plotting_r .- Δr/50).^2)), \"-\", label=\"CIB\")\n",
    "# # plot(radial_coord, predict(approx, radial_coord), \"-\")\n",
    "# legend()\n",
    "# yscale(\"log\")\n",
    "# title(freq)\n",
    "# # ylim(0.0, 0.5e20)"
   ]
  },
  {
   "cell_type": "code",
   "execution_count": null,
   "metadata": {},
   "outputs": [],
   "source": [
    "rad2deg(sqrt(nside2pixarea(nside))) * 60"
   ]
  },
  {
   "cell_type": "code",
   "execution_count": null,
   "metadata": {},
   "outputs": [],
   "source": [
    "360 * 60 / 3nside"
   ]
  },
  {
   "cell_type": "code",
   "execution_count": null,
   "metadata": {},
   "outputs": [],
   "source": []
  },
  {
   "cell_type": "code",
   "execution_count": null,
   "metadata": {},
   "outputs": [],
   "source": []
  }
 ],
 "metadata": {
  "kernelspec": {
   "display_name": "Julia 1.5.3",
   "language": "julia",
   "name": "julia-1.5"
  },
  "language_info": {
   "file_extension": ".jl",
   "mimetype": "application/julia",
   "name": "julia",
   "version": "1.5.3"
  }
 },
 "nbformat": 4,
 "nbformat_minor": 4
}
