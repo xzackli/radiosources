{
 "cells": [
  {
   "cell_type": "code",
   "execution_count": 1,
   "metadata": {},
   "outputs": [
    {
     "data": {
      "text/plain": [
       "\"/home/zequnl/Projects/PS4C/model/lagache/\""
      ]
     },
     "execution_count": 1,
     "metadata": {},
     "output_type": "execute_result"
    }
   ],
   "source": [
    "using PyCall\n",
    "\n",
    "PS4C_dir = \"/home/zequnl/Projects/PS4C/model/lagache/\""
   ]
  },
  {
   "cell_type": "code",
   "execution_count": 2,
   "metadata": {},
   "outputs": [
    {
     "data": {
      "text/plain": [
       "PyObject <module 'numpy' from '/tigress/zequnl/conda_envs/ps/lib/python3.8/site-packages/numpy/__init__.py'>"
      ]
     },
     "execution_count": 2,
     "metadata": {},
     "output_type": "execute_result"
    }
   ],
   "source": [
    "fgspectra = pyimport(\"fgspectra\")\n",
    "fgc = pyimport(\"fgspectra.cross\")\n",
    "fgp = pyimport(\"fgspectra.power\")\n",
    "fgf = pyimport(\"fgspectra.frequency\")\n",
    "\n",
    "np = pyimport(\"numpy\")"
   ]
  },
  {
   "cell_type": "code",
   "execution_count": 4,
   "metadata": {},
   "outputs": [
    {
     "data": {
      "text/plain": [
       "143"
      ]
     },
     "execution_count": 4,
     "metadata": {},
     "output_type": "execute_result"
    }
   ],
   "source": [
    "freq1 = 100.0\n",
    "int_freq1 = Int(freq1)\n",
    "\n",
    "freq2 = 143.0\n",
    "int_freq2 = Int(freq2)"
   ]
  },
  {
   "cell_type": "code",
   "execution_count": null,
   "metadata": {},
   "outputs": [],
   "source": []
  },
  {
   "cell_type": "code",
   "execution_count": 5,
   "metadata": {},
   "outputs": [],
   "source": [
    "# PS4C_freqs = [\"100\"]\n",
    "# lagache_counts = [\n",
    "#     np.genfromtxt(PS4C_dir * \"ns$(freq)_radio.dat\", \n",
    "#                   names=(\"S\", \"dNdS\"))  \n",
    "#     for freq in PS4C_freqs];"
   ]
  },
  {
   "cell_type": "code",
   "execution_count": null,
   "metadata": {},
   "outputs": [],
   "source": []
  },
  {
   "cell_type": "code",
   "execution_count": 6,
   "metadata": {},
   "outputs": [],
   "source": [
    "using HDF5\n",
    "\n",
    "flux_143 = h5read(\"/tigress/zequnl/radio/lagache_sed_massage/catalog_$(143.0).h5\", \"flux\");\n",
    "\n",
    "flux1 = h5read(\"/tigress/zequnl/radio/lagache_sed_massage/catalog_$(freq1).h5\", \"flux\")\n",
    "θ1 = h5read(\"/tigress/zequnl/radio/lagache_sed_massage/catalog_$(freq1).h5\", \"theta\")\n",
    "ϕ1 = h5read(\"/tigress/zequnl/radio/lagache_sed_massage/catalog_$(freq1).h5\", \"phi\");\n",
    "\n",
    "flux2 = h5read(\"/tigress/zequnl/radio/lagache_sed_massage/catalog_$(freq2).h5\", \"flux\")\n",
    "θ2 = h5read(\"/tigress/zequnl/radio/lagache_sed_massage/catalog_$(freq2).h5\", \"theta\")\n",
    "ϕ2 = h5read(\"/tigress/zequnl/radio/lagache_sed_massage/catalog_$(freq2).h5\", \"phi\");"
   ]
  },
  {
   "cell_type": "code",
   "execution_count": null,
   "metadata": {},
   "outputs": [],
   "source": []
  },
  {
   "cell_type": "code",
   "execution_count": null,
   "metadata": {},
   "outputs": [],
   "source": []
  },
  {
   "cell_type": "code",
   "execution_count": null,
   "metadata": {},
   "outputs": [],
   "source": [
    "using XGPaint\n",
    "using Healpix\n",
    "hp = pyimport(\"healpy\")\n",
    "\n",
    "using PyPlot\n",
    "using Unitful, UnitfulAstro\n",
    "import PhysicalConstants.CODATA2018: BoltzmannConstant, PlanckConstant, SpeedOfLightInVacuum\n",
    "\n",
    "# CHANGE FOR DIFFERENT FREQUENCY ==========================\n",
    "# print(KCMB_to_Jy_factor(freq * 1u\"GHz\"))\n",
    "\n",
    "const TCMB = 2.725u\"K\"\n",
    "xf(ν) = float(PlanckConstant) * ν / float(BoltzmannConstant) / TCMB\n",
    "MJy_mul(ν) = 1.05e3 * expm1(xf(ν))^2 * exp(-xf(ν)) * (ν/100u\"GHz\")^(-4)\n",
    "tSZ_mul(ν) = 1e6u\"1/K\" * TCMB * (xf(ν) * (exp(xf(ν))+1) / expm1(xf(ν)) - 4)"
   ]
  },
  {
   "cell_type": "code",
   "execution_count": null,
   "metadata": {},
   "outputs": [],
   "source": [
    "MJy_mul(freq1 * 1u\"GHz\"), tSZ_mul(freq1 * 1u\"GHz\")"
   ]
  },
  {
   "cell_type": "markdown",
   "metadata": {},
   "source": [
    "# Generate Radio Map"
   ]
  },
  {
   "cell_type": "code",
   "execution_count": null,
   "metadata": {},
   "outputs": [],
   "source": []
  },
  {
   "cell_type": "code",
   "execution_count": null,
   "metadata": {},
   "outputs": [],
   "source": [
    "nside = 4096\n",
    "m_radio1 = Map{Float64,RingOrder}(nside)\n",
    "m_radio2 = Map{Float64,RingOrder}(nside)\n",
    "\n",
    "flux_cut = 7e-3\n",
    "cut_array = flux_143 .< flux_cut  # in Jy\n",
    "XGPaint.catalog2map!(m_radio1, flux1[cut_array], θ1[cut_array], ϕ1[cut_array])\n",
    "XGPaint.catalog2map!(m_radio2, flux2[cut_array], θ2[cut_array], ϕ2[cut_array])\n",
    "\n",
    "# XGPaint.catalog2map!(m_radio, flux, θ, ϕ)\n",
    "\n",
    "MJy_factor1 = MJy_mul(freq1 * 1u\"GHz\")\n",
    "m_radio1 .*= MJy_factor1 / 1e6;  # CONVERT TO muK, note that our maps are in Jy/sr\n",
    "MJy_factor2 = MJy_mul(freq2 * 1u\"GHz\")\n",
    "m_radio2 .*= MJy_factor2 / 1e6;  # CONVERT TO muK, note that our maps are in Jy/sr"
   ]
  },
  {
   "cell_type": "code",
   "execution_count": null,
   "metadata": {},
   "outputs": [],
   "source": [
    "\n",
    "# XGPaint.catalog2map!(m_radio, flux[cut_array], θ[cut_array], ϕ[cut_array])"
   ]
  },
  {
   "cell_type": "code",
   "execution_count": null,
   "metadata": {},
   "outputs": [],
   "source": [
    "using AngularPowerSpectra\n",
    "\n",
    "# compute binning matrix\n",
    "P = binning_matrix(0:50:2nside, 50:50:2nside+50, ℓ -> ℓ^2, lmax=3nside);\n",
    "lb = P * collect(0:3nside-1)\n",
    "pixwin = hp.pixwin(nside);"
   ]
  },
  {
   "cell_type": "code",
   "execution_count": null,
   "metadata": {},
   "outputs": [],
   "source": [
    "using FITSIO\n",
    "\n",
    "m_cib1 = readMapFromFITS(\"/tigress/zequnl/websky/cib_nu0$(int_freq1).fits\", 1, Float64);\n",
    "m_cib1.pixels .*= MJy_factor1\n",
    "\n",
    "tSZ_factor1 = tSZ_mul(freq1 * 1u\"GHz\")\n",
    "m_tsz1 = readMapFromFITS(\"/tigress/zequnl/websky/tsz.fits\", 1, Float64);\n",
    "m_tsz1 .*= tSZ_factor1;"
   ]
  },
  {
   "cell_type": "code",
   "execution_count": null,
   "metadata": {},
   "outputs": [],
   "source": [
    "alm_radio1 = map2alm(m_radio1)\n",
    "alm_radio2 = map2alm(m_radio2);"
   ]
  },
  {
   "cell_type": "code",
   "execution_count": null,
   "metadata": {},
   "outputs": [],
   "source": [
    "alm_cib1 = map2alm(m_cib1)\n",
    "alm_tsz1 = map2alm(m_tsz1);"
   ]
  },
  {
   "cell_type": "code",
   "execution_count": null,
   "metadata": {},
   "outputs": [],
   "source": [
    "run(`ls /tigress/zequnl/sehgal/`)"
   ]
  },
  {
   "cell_type": "code",
   "execution_count": null,
   "metadata": {},
   "outputs": [],
   "source": []
  },
  {
   "cell_type": "code",
   "execution_count": null,
   "metadata": {},
   "outputs": [],
   "source": [
    "m_radio_sehgal1 = readMapFromFITS(\"/tigress/zequnl/sehgal/$(int_freq1)_rad_pts_healpix_nopell_Nside4096_DeltaT_uK_fluxcut148_7mJy_lininterp.fits\", 1, Float64);\n",
    "alm_radio_sehgal1 = map2alm(m_radio_sehgal1);"
   ]
  },
  {
   "cell_type": "code",
   "execution_count": null,
   "metadata": {},
   "outputs": [],
   "source": [
    "# m_tsz_sehgal_100 = readMapFromFITS(\"/tigress/zequnl/sehgal/090_tsz_healpix.fits\", 1, Float64);\n",
    "# print( sum(m_tsz_sehgal_100) / 4π / Jy_mul_factor )\n",
    "# m_tsz_sehgal_100.pixels ./= Jy_mul_factor\n",
    "# alm_tsz_sehgal = map2alm(m_tsz_sehgal_100);"
   ]
  },
  {
   "cell_type": "markdown",
   "metadata": {},
   "source": [
    "# ALL IS microK"
   ]
  },
  {
   "cell_type": "code",
   "execution_count": null,
   "metadata": {},
   "outputs": [],
   "source": [
    "cl_radio_radio = alm2cl(alm_radio)\n",
    "cl_cib_cib = alm2cl(alm_cib)\n",
    "cl_tsz_tsz = alm2cl(alm_tsz)\n",
    "\n",
    "cl_radio_cib = alm2cl(alm_radio, alm_cib)\n",
    "cl_cib_tsz = alm2cl(alm_cib, alm_tsz)\n",
    "cl_radio_tsz = alm2cl(alm_radio, alm_tsz);"
   ]
  },
  {
   "cell_type": "code",
   "execution_count": null,
   "metadata": {},
   "outputs": [],
   "source": [
    "plt.plot(alm2cl(alm_radio_sehgal) ./ pixwin.^2, \"-\", label=\"Sehgal/Colin reprocessed\")\n",
    "plt.plot(cl_radio_radio  ./ pixwin.^2, \"--\", label=\"WEBSKY $(freq) GHz\")\n",
    "\n",
    "yscale(\"log\")\n",
    "# xlim(0,2nside)\n",
    "ylim(1e-12,1e-3)\n",
    "# ylabel(raw\"$C_{\\ell}$ [$\\mu$K$^2$]\")\n",
    "legend()"
   ]
  },
  {
   "cell_type": "code",
   "execution_count": null,
   "metadata": {},
   "outputs": [],
   "source": [
    "# m_cib_sehgal = readMapFromFITS(\n",
    "#     \"/tigress/zequnl/sehgal/100_ir_pts_healpix_nopell_Nside4096_DeltaT_uK_lininterp_CIBrescale0p75.fits\", 1, Float64);\n",
    "# alm_cib_sehgal = map2alm(m_cib_sehgal);"
   ]
  },
  {
   "cell_type": "code",
   "execution_count": null,
   "metadata": {},
   "outputs": [],
   "source": [
    "# cl_cib_cib_sehgal = alm2cl(alm_cib_sehgal);"
   ]
  },
  {
   "cell_type": "code",
   "execution_count": null,
   "metadata": {},
   "outputs": [],
   "source": [
    "sum(m_radio.pixels) / nside2npix(nside)"
   ]
  },
  {
   "cell_type": "code",
   "execution_count": null,
   "metadata": {},
   "outputs": [],
   "source": [
    "sum(m_cib.pixels) / nside2npix(nside)"
   ]
  },
  {
   "cell_type": "code",
   "execution_count": null,
   "metadata": {},
   "outputs": [],
   "source": [
    "sum(m_tsz.pixels) / nside2npix(nside)"
   ]
  },
  {
   "cell_type": "code",
   "execution_count": null,
   "metadata": {},
   "outputs": [],
   "source": [
    "# plt.plot(radio_model ./ ells.^2 / 2π, \"-\", lw=2)\n",
    "\n",
    "title(\"$(freq) GHz\")\n",
    "\n",
    "plt.plot(lb, P * (cl_radio_radio ./ pixwin.^2) .* lb.^2, \"-\", label=\"websky radio\")\n",
    "# plt.plot(cibc_model ./ ells.^2 / 2π, lw=3, label=\"CIB clustered model from Dunkley+13\")\n",
    "# plt.plot(cibp_model .* 1e2, \"-\", lw=3, label=\"CIB poisson model from Dunkley+13\")\n",
    "\n",
    "plt.plot(lb, P * (cl_tsz_tsz ./ pixwin.^2) .* lb.^2  , \"-\", label=\"websky tSZ\")\n",
    "plt.plot(lb, P * (cl_cib_cib ./ pixwin.^2) .* lb.^2 , \"--\", label=\"websky CIB\")\n",
    "# plt.plot(lb, P * (cl_cib_cib_sehgal ./ pixwin.^2).* lb.^2, \"-\", label=\"sehgal CIB\")\n",
    "\n",
    "ylabel(raw\"$\\ell^2 C_{\\ell}$ [$\\mu$K$^2$]\")\n",
    "\n",
    "\n",
    "# plt.plot(lb, P * (cl_tsz_tsz .* 2e12), \"-\")\n",
    "legend()\n",
    "yscale(\"log\")\n",
    "xscale(\"log\")\n",
    "ylim(1e-2, 1e3)\n",
    "savefig(\"spectra$(freq).pdf\")\n",
    "# ylim(0,1e-4)"
   ]
  },
  {
   "cell_type": "code",
   "execution_count": null,
   "metadata": {},
   "outputs": [],
   "source": []
  },
  {
   "cell_type": "code",
   "execution_count": null,
   "metadata": {},
   "outputs": [],
   "source": []
  },
  {
   "cell_type": "code",
   "execution_count": 48,
   "metadata": {},
   "outputs": [
    {
     "data": {
      "image/png": "[encoded data removed]",
      "text/plain": [
       "Figure(PyObject <Figure size 800x494.427 with 1 Axes>)"
      ]
     },
     "metadata": {
      "image/png": {
       "height": 218.5,
       "width": 356.5
      }
     },
     "output_type": "display_data"
    },
    {
     "name": "stderr",
     "output_type": "stream",
     "text": [
      "'Cochineal-Roman.otf' can not be subsetted into a Type 3 font. The entire font will be embedded in the output.\n"
     ]
    }
   ],
   "source": [
    "using AngularPowerSpectra\n",
    "\n",
    "# plot(lb, P * (cl_radio_radio ./ pixwin))\n",
    "# plot(lb, P * (cl_cib_cib ./ pixwin))\n",
    "\n",
    "plot(lb, P * (cl_radio_cib ./ sqrt.(cl_radio_radio .* cl_cib_cib) ), label=\"radio x cib\")\n",
    "plot(lb, P * abs.(cl_cib_tsz ./ sqrt.(cl_tsz_tsz .* cl_cib_cib) ), label=\"cib x tsz\")\n",
    "plot(lb, P * abs.(cl_radio_tsz ./ sqrt.(cl_radio_radio .* cl_tsz_tsz) ), label=\"radio x tsz\")\n",
    "\n",
    "legend()\n",
    "\n",
    "ylabel(raw\"$|\\rho|$\")\n",
    "# ylim(0,2e3)\n",
    "ylim(0.0, 0.4)\n",
    "# xlim(0,2nside)\n",
    "# yscale(\"log\")\n",
    "\n",
    "savefig(\"correlations_143.pdf\")"
   ]
  },
  {
   "cell_type": "code",
   "execution_count": 26,
   "metadata": {},
   "outputs": [],
   "source": [
    "ells = collect(0:3nside-1)\n",
    "fwhm_100 = 2.2 * π/(60 * 180)\n",
    "bl = hp.gauss_beam(fwhm_100, lmax=3nside);"
   ]
  },
  {
   "cell_type": "code",
   "execution_count": 27,
   "metadata": {},
   "outputs": [
    {
     "data": {
      "image/png": "[encoded data removed]",
      "text/plain": [
       "Figure(PyObject <Figure size 800x494.427 with 1 Axes>)"
      ]
     },
     "metadata": {
      "image/png": {
       "height": 214,
       "width": 337
      }
     },
     "output_type": "display_data"
    },
    {
     "data": {
      "text/plain": [
       "1-element Array{PyObject,1}:\n",
       " PyObject <matplotlib.lines.Line2D object at 0x2ae720c8c8b0>"
      ]
     },
     "execution_count": 27,
     "metadata": {},
     "output_type": "execute_result"
    }
   ],
   "source": [
    "plot(bl, \"-\")"
   ]
  },
  {
   "cell_type": "code",
   "execution_count": null,
   "metadata": {},
   "outputs": [],
   "source": []
  },
  {
   "cell_type": "code",
   "execution_count": 28,
   "metadata": {},
   "outputs": [
    {
     "name": "stdout",
     "output_type": "stream",
     "text": [
      " 32.671598 seconds (283.25 k allocations: 25.731 GiB, 0.08% gc time)\n"
     ]
    }
   ],
   "source": [
    "ENV[\"SCRATCH\"] = \"/tigress/zequnl/xgpaint/\"\n",
    "@time halo_pos, halo_mass = read_halo_catalog_hdf5(\n",
    "    joinpath(ENV[\"SCRATCH\"],\"websky_halos-light.hdf5\"));"
   ]
  },
  {
   "cell_type": "code",
   "execution_count": 29,
   "metadata": {},
   "outputs": [],
   "source": [
    "beamed_radio = hp.sphtfunc.smoothing(m_radio.pixels, fwhm=fwhm_100);\n",
    "beamed_cib = hp.sphtfunc.smoothing(m_cib.pixels, fwhm=fwhm_100);\n",
    "beamed_tsz = hp.sphtfunc.smoothing(m_tsz.pixels, fwhm=fwhm_100);"
   ]
  },
  {
   "cell_type": "code",
   "execution_count": null,
   "metadata": {},
   "outputs": [],
   "source": []
  },
  {
   "cell_type": "code",
   "execution_count": 30,
   "metadata": {},
   "outputs": [],
   "source": [
    "mass_cut_array = halo_mass .> 10^14.5\n",
    "positions = halo_pos[:, mass_cut_array];"
   ]
  },
  {
   "cell_type": "code",
   "execution_count": 31,
   "metadata": {},
   "outputs": [
    {
     "data": {
      "text/plain": [
       "unitize (generic function with 1 method)"
      ]
     },
     "execution_count": 31,
     "metadata": {},
     "output_type": "execute_result"
    }
   ],
   "source": [
    "norm(x) = sqrt(x[1]^2 + x[2]^2 + x[3]^2)\n",
    "unitize(x) = x ./ norm(x)"
   ]
  },
  {
   "cell_type": "code",
   "execution_count": 32,
   "metadata": {},
   "outputs": [
    {
     "data": {
      "text/plain": [
       "0.0017453292519943296"
      ]
     },
     "execution_count": 32,
     "metadata": {},
     "output_type": "execute_result"
    }
   ],
   "source": [
    "max_disc_in_arcmin = 6\n",
    "max_disc = deg2rad(max_disc_in_arcmin / 60)"
   ]
  },
  {
   "cell_type": "code",
   "execution_count": 33,
   "metadata": {},
   "outputs": [
    {
     "data": {
      "text/plain": [
       "get_discs (generic function with 1 method)"
      ]
     },
     "execution_count": 33,
     "metadata": {},
     "output_type": "execute_result"
    }
   ],
   "source": [
    "using ProgressMeter\n",
    "\n",
    "function get_discs(beamed_map::Array{T}, res, pos) where T\n",
    "#     res = beamed_map.resolution\n",
    "    radii = T[]\n",
    "    disc_fluxes = T[]\n",
    "    \n",
    "    num_halos = size(pos, 2)\n",
    "    @showprogress for i in 1:num_halos\n",
    "        pixel_inds = hp.query_disc(nside, unitize(positions[:,i]), max_disc) .+ 1\n",
    "        append!(disc_fluxes, beamed_map[pixel_inds])\n",
    "        vec1 = unitize(positions[:,i]) #pix2vecRing(res, vec2pixRing(res, positions[:,i]...))\n",
    "        vec2 = hp.pixelfunc.pix2vec(res.nside, pixel_inds .- 1) #[pix2angRing(res, pixind) for pixind in pixel_inds]\n",
    "#         angdists = [hp.rotator.angdist(vec1, [vec2[1][i_discpix], vec2[2][i_discpix]])[1] for i_discpix in 1:length(pixel_inds) ]\n",
    "        angdists = hp.rotator.angdist(vec1, vec2)\n",
    "        append!(radii, angdists)\n",
    "    end\n",
    "    \n",
    "    return radii, disc_fluxes\n",
    "end"
   ]
  },
  {
   "cell_type": "code",
   "execution_count": 34,
   "metadata": {},
   "outputs": [
    {
     "data": {
      "text/plain": [
       "spline_∂ₓ (generic function with 1 method)"
      ]
     },
     "execution_count": 34,
     "metadata": {},
     "output_type": "execute_result"
    }
   ],
   "source": [
    "using Interpolations\n",
    "spline(x, y) = scale(interpolate(y, BSpline(Cubic(Line(OnGrid())))), x)\n",
    "spline_∂ₓ(f, x_grid) = spline(x_grid, [Interpolations.gradient(f, x)[1] for x in x_grid])\n"
   ]
  },
  {
   "cell_type": "code",
   "execution_count": 72,
   "metadata": {},
   "outputs": [],
   "source": [
    "# function get_profile(m, res)\n",
    "#     r, f = get_discs(m, res, positions)\n",
    "#     Δr = max_disc/30\n",
    "#     radial_coord = Δr/100:Δr:max_disc\n",
    "#     cumulative_fluxes = [sum(f[r .< r₀]) for r₀ in radial_coord];\n",
    "#     profile = spline_∂ₓ(spline(radial_coord, cumulative_fluxes), radial_coord)\n",
    "#     return profile\n",
    "# end"
   ]
  },
  {
   "cell_type": "code",
   "execution_count": 95,
   "metadata": {},
   "outputs": [
    {
     "data": {
      "text/plain": [
       "get_profile (generic function with 1 method)"
      ]
     },
     "execution_count": 95,
     "metadata": {},
     "output_type": "execute_result"
    }
   ],
   "source": [
    "function get_profile(m, res)\n",
    "    r, f = get_discs(m, res, positions)\n",
    "    Δr = max_disc/30\n",
    "    radial_coord = 0.0:Δr:max_disc\n",
    "    cumulative_fluxes = [\n",
    "        sum( f[((r₀-Δr) .< r) .& (r .< (r₀+Δr))] ) / (π * ((r₀+Δr)^2 - max(0.0, r₀-Δr)^2))\n",
    "        for r₀ in radial_coord];\n",
    "    cumulative_fluxes[1] = sum( f[r .< Δr] ) / (π * Δr^2) \n",
    "    \n",
    "    profile = spline(radial_coord, cumulative_fluxes) #spline_∂ₓ(\n",
    "        \n",
    "#         , radial_coord)\n",
    "    return profile\n",
    "end"
   ]
  },
  {
   "cell_type": "code",
   "execution_count": 121,
   "metadata": {},
   "outputs": [
    {
     "name": "stderr",
     "output_type": "stream",
     "text": [
      "\u001b[32mProgress: 100%|█████████████████████████████████████████| Time: 0:00:13\u001b[39m\n",
      "\u001b[32mProgress: 100%|█████████████████████████████████████████| Time: 0:00:13\u001b[39m\n",
      "\u001b[32mProgress: 100%|█████████████████████████████████████████| Time: 0:00:13\u001b[39m\n"
     ]
    }
   ],
   "source": [
    "# profile_radio = get_profile(beamed_radio, m_radio.resolution)\n",
    "# profile_tsz = get_profile(beamed_tsz, m_radio.resolution)\n",
    "# profile_cib = get_profile(beamed_cib, m_radio.resolution);\n",
    "\n",
    "profile_radio = get_profile(m_radio.pixels, m_radio.resolution)\n",
    "profile_tsz = get_profile(m_tsz.pixels, m_radio.resolution)\n",
    "profile_cib = get_profile(m_cib.pixels, m_radio.resolution);"
   ]
  },
  {
   "cell_type": "code",
   "execution_count": 107,
   "metadata": {},
   "outputs": [
    {
     "name": "stderr",
     "output_type": "stream",
     "text": [
      "\u001b[32mProgress: 100%|█████████████████████████████████████████| Time: 0:00:13\u001b[39m\n"
     ]
    },
    {
     "data": {
      "text/plain": [
       "([0.0017221862741023776, 0.0017202446058567327, 0.0017421975862253762, 0.0016117514762667867, 0.0015322614044748916, 0.0015117867344921446, 0.0015526639077682181, 0.0016503403243592661, 0.0016211677798015159, 0.0014610889200242488  …  0.0015576548972699158, 0.0014258857072322788, 0.0013834551983640325, 0.0014382918645276408, 0.0015803023930831017, 0.0016402458893535984, 0.0015602001844434543, 0.0015658838228943862, 0.0016564145529296768, 0.0017206450788672723], [0.0, 0.0, 0.0, 0.0, 0.4933860543637618, 0.0, 0.15444135093503503, 0.036198739809608506, 0.0, 0.7255338542560896  …  0.0, 0.0, 0.0, 1.3695093342106148, 0.0, 0.3597315761367854, 0.0, 1.6960738679739944, 0.0, 0.2316849690730539])"
      ]
     },
     "execution_count": 107,
     "metadata": {},
     "output_type": "execute_result"
    }
   ],
   "source": [
    "# r, fr = get_discs(m_radio.pixels, m_radio.resolution, positions)\n",
    "# r, fsz = get_discs(beamed_tsz, m_radio.resolution, positions)"
   ]
  },
  {
   "cell_type": "code",
   "execution_count": 103,
   "metadata": {},
   "outputs": [],
   "source": [
    "# sum(fr) / sum(fsz)"
   ]
  },
  {
   "cell_type": "code",
   "execution_count": 122,
   "metadata": {},
   "outputs": [
    {
     "data": {
      "text/plain": [
       "5.817764173314432e-6:1.7453292519943296e-6:0.001686569833843854"
      ]
     },
     "execution_count": 122,
     "metadata": {},
     "output_type": "execute_result"
    }
   ],
   "source": [
    "Δr = max_disc/30\n",
    "plotting_r = Δr/10:max_disc/1000:(max_disc-Δr)"
   ]
  },
  {
   "cell_type": "code",
   "execution_count": 123,
   "metadata": {},
   "outputs": [
    {
     "data": {
      "image/png": "[encoded data removed]",
      "text/plain": [
       "Figure(PyObject <Figure size 800x494.427 with 1 Axes>)"
      ]
     },
     "metadata": {
      "image/png": {
       "height": 230.5,
       "width": 337
      }
     },
     "output_type": "display_data"
    },
    {
     "data": {
      "text/plain": [
       "PyObject Text(0.5, 1.0, 'beamed 143.0 GHz')"
      ]
     },
     "execution_count": 123,
     "metadata": {},
     "output_type": "execute_result"
    }
   ],
   "source": [
    "\n",
    "r_arcmin = rad2deg.(plotting_r) .* 60\n",
    "\n",
    "plot(r_arcmin, profile_radio.(plotting_r), \"-\", label=\"radio\")\n",
    "plot(r_arcmin, abs.(profile_tsz.(plotting_r)) ./ 10  , \"-\", label=\"|tSZ| / 10\")\n",
    "plot(r_arcmin, profile_cib.(plotting_r) ./ 10, \"-\", label=\"CIB / 10\")\n",
    "# plot(radial_coord, predict(approx, radial_coord), \"-\")\n",
    "legend()\n",
    "# yscale(\"log\")\n",
    "title(\"beamed $(freq) GHz\")\n",
    "# ylim(0.0, 1e19)\n"
   ]
  },
  {
   "cell_type": "code",
   "execution_count": 92,
   "metadata": {},
   "outputs": [],
   "source": [
    "# r_arcmin = rad2deg.(plotting_r) .* 60\n",
    "# plot(r_arcmin, profile_radio.(plotting_r) ./ ( π .* ((plotting_r .+ Δr/50).^2 - (plotting_r .- Δr/50).^2)), \"-\", label=\"radio\")\n",
    "# plot(r_arcmin, abs.(profile_tsz.(plotting_r)) ./ ( π .* ((plotting_r .+ Δr/50).^2 - (plotting_r .- Δr/50).^2)), \"-\", label=\"|tSZ|\")\n",
    "# plot(r_arcmin, profile_cib.(plotting_r) ./ ( π .* ((plotting_r .+ Δr/50).^2 - (plotting_r .- Δr/50).^2)), \"-\", label=\"CIB\")\n",
    "# # plot(radial_coord, predict(approx, radial_coord), \"-\")\n",
    "# legend()\n",
    "# yscale(\"log\")\n",
    "# title(freq)\n",
    "# # ylim(0.0, 0.5e20)"
   ]
  },
  {
   "cell_type": "code",
   "execution_count": 93,
   "metadata": {},
   "outputs": [
    {
     "data": {
      "text/plain": [
       "0.8588716029543515"
      ]
     },
     "execution_count": 93,
     "metadata": {},
     "output_type": "execute_result"
    }
   ],
   "source": [
    "rad2deg(sqrt(nside2pixarea(nside))) * 60"
   ]
  },
  {
   "cell_type": "code",
   "execution_count": 94,
   "metadata": {},
   "outputs": [
    {
     "data": {
      "text/plain": [
       "1.7578125"
      ]
     },
     "execution_count": 94,
     "metadata": {},
     "output_type": "execute_result"
    }
   ],
   "source": [
    "360 * 60 / 3nside"
   ]
  },
  {
   "cell_type": "code",
   "execution_count": null,
   "metadata": {},
   "outputs": [],
   "source": []
  },
  {
   "cell_type": "code",
   "execution_count": null,
   "metadata": {},
   "outputs": [],
   "source": []
  }
 ],
 "metadata": {
  "kernelspec": {
   "display_name": "Julia 1.6.3",
   "language": "julia",
   "name": "julia-1.6"
  },
  "language_info": {
   "file_extension": ".jl",
   "mimetype": "application/julia",
   "name": "julia",
   "version": "1.6.3"
  }
 },
 "nbformat": 4,
 "nbformat_minor": 4
}
